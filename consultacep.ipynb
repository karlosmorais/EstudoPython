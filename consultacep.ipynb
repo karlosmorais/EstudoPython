{
  "nbformat": 4,
  "nbformat_minor": 0,
  "metadata": {
    "colab": {
      "name": "consultacep.ipynb",
      "provenance": [],
      "authorship_tag": "ABX9TyN/30Cr+lwVE+0am1+S8duk",
      "include_colab_link": true
    },
    "kernelspec": {
      "name": "python3",
      "display_name": "Python 3"
    },
    "language_info": {
      "name": "python"
    }
  },
  "cells": [
    {
      "cell_type": "markdown",
      "metadata": {
        "id": "view-in-github",
        "colab_type": "text"
      },
      "source": [
        "<a href=\"https://colab.research.google.com/github/karlosmorais/EstudoPython/blob/master/consultacep.ipynb\" target=\"_parent\"><img src=\"https://colab.research.google.com/assets/colab-badge.svg\" alt=\"Open In Colab\"/></a>"
      ]
    },
    {
      "cell_type": "code",
      "execution_count": 27,
      "metadata": {
        "id": "lHRPWXUcQSaG"
      },
      "outputs": [],
      "source": [
        "import requests"
      ]
    },
    {
      "cell_type": "code",
      "source": [
        "def get_info_cep(cep):\n",
        "  url_base = f'https://viacep.com.br/ws/{cep}/json/'\n",
        "  r = requests.get(url_base)\n",
        "  return r.json()"
      ],
      "metadata": {
        "id": "kFeeRBXgR0Be"
      },
      "execution_count": 28,
      "outputs": []
    },
    {
      "cell_type": "code",
      "source": [
        "d = get_info_cep(\"01001000\")"
      ],
      "metadata": {
        "id": "tskhJUssQkf7"
      },
      "execution_count": 29,
      "outputs": []
    },
    {
      "cell_type": "code",
      "source": [
        "def retorna_rua(d):\n",
        "  return d['logradouro']"
      ],
      "metadata": {
        "id": "v_rW2qfLTfeG"
      },
      "execution_count": 30,
      "outputs": []
    },
    {
      "cell_type": "code",
      "source": [
        "print(d)"
      ],
      "metadata": {
        "colab": {
          "base_uri": "https://localhost:8080/"
        },
        "id": "ok0Q7oAQTw_0",
        "outputId": "e5431122-bf0f-4076-905b-53d827ce5be2"
      },
      "execution_count": 31,
      "outputs": [
        {
          "output_type": "stream",
          "name": "stdout",
          "text": [
            "{'cep': '01001-000', 'logradouro': 'Praça da Sé', 'complemento': 'lado ímpar', 'bairro': 'Sé', 'localidade': 'São Paulo', 'uf': 'SP', 'ibge': '3550308', 'gia': '1004', 'ddd': '11', 'siafi': '7107'}\n"
          ]
        }
      ]
    },
    {
      "cell_type": "code",
      "source": [
        "print(d['logradouro'])"
      ],
      "metadata": {
        "colab": {
          "base_uri": "https://localhost:8080/"
        },
        "id": "DbqVJlMjT4xv",
        "outputId": "879333bb-2bfa-492a-b21d-8ac8c195606a"
      },
      "execution_count": 32,
      "outputs": [
        {
          "output_type": "stream",
          "name": "stdout",
          "text": [
            "Praça da Sé\n"
          ]
        }
      ]
    },
    {
      "cell_type": "code",
      "source": [
        "print(retorna_rua(d))"
      ],
      "metadata": {
        "colab": {
          "base_uri": "https://localhost:8080/"
        },
        "id": "q3kzD_mvRHIi",
        "outputId": "de9466c9-fc86-4391-d5a3-0c1612754a0f"
      },
      "execution_count": 33,
      "outputs": [
        {
          "output_type": "stream",
          "name": "stdout",
          "text": [
            "Praça da Sé\n"
          ]
        }
      ]
    }
  ]
}